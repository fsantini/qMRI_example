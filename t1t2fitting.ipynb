{
 "cells": [
  {
   "cell_type": "markdown",
   "metadata": {},
   "source": [
    "# T1 and T2 fitting\n",
    "\n",
    "In this Notebook, we will explore some basics of quantitative MRI, specifically T1 and T2 fitting.\n",
    "\n",
    "**Note:** This Notebook contains some interactive elements. If you select a different voxel in the image during data load, re-run the subsequent cells to see the updated results.\n",
    "\n",
    "## Initialization\n",
    "\n",
    "The following code imports the required packages and defines a couple of utility functions."
   ]
  },
  {
   "cell_type": "code",
   "execution_count": 1,
   "metadata": {},
   "outputs": [],
   "source": [
    "import ipympl\n",
    "%matplotlib ipympl\n",
    "import numpy as np\n",
    "import matplotlib.pyplot as plt\n",
    "import scipy.optimize as opt\n",
    "\n",
    "def pickPoint(dataset, timebase):\n",
    "    imaFig = plt.figure()\n",
    "    plt.title('Click on the image to see the time course')\n",
    "    plt.imshow(t1dataset[:,:,0])\n",
    "    plotFig = plt.figure()\n",
    "    plt.title('Time course')\n",
    "    def onclick(event):\n",
    "        global timeseries\n",
    "        row = int(event.ydata)\n",
    "        col = int(event.xdata)\n",
    "        ts = np.squeeze(dataset[row,col,:])\n",
    "        plt.figure(plotFig.number)\n",
    "        plt.clf()\n",
    "        plt.plot(timebase, ts)\n",
    "        timeseries = ts\n",
    "\n",
    "    cid = imaFig.canvas.mpl_connect('button_press_event', onclick)\n",
    "\n",
    "def showFit(timebase, yValues, modelFun, params):\n",
    "    plt.figure()\n",
    "    plt.plot(timebase, yValues, 'bo')\n",
    "    t = np.linspace(timebase[0], timebase[-1])\n",
    "    fitted = np.array(list(map(lambda x: modelFun(x, *params), t)))\n",
    "    plt.plot(t, fitted, 'k')\n",
    "    \n",
    "def fitError(pcov):\n",
    "    return np.sqrt(np.diag(pcov))"
   ]
  },
  {
   "cell_type": "markdown",
   "metadata": {},
   "source": [
    "## T1 fitting\n",
    "\n",
    "### Data loading and visualization\n",
    "\n",
    "Now we will load the T1 dataset. It is a real part dataset, so, in principle, it contains both negative and positive values. Negative values correspond to TIs that are shorter than the zero crossing for the considered tissue in an inversion recovery experiment: $TI \\le T_1 \\ln{2}$. To represent a typical scenario of a magnitude acquisition, we will take the absolute value of each voxel.\n",
    "\n",
    "This dateset is an inversion-recovery turbo spin echo (real-part data), TR=15000ms."
   ]
  },
  {
   "cell_type": "code",
   "execution_count": 2,
   "metadata": {},
   "outputs": [],
   "source": [
    "t1dataset = np.load('t1dataset.npy')\n",
    "ti = np.array([50., 100., 200., 500., 2000., 4000.])\n",
    "t1dataset = np.abs(t1dataset)"
   ]
  },
  {
   "cell_type": "markdown",
   "metadata": {},
   "source": [
    "We will now visualize the image. Click on a voxel to select it. The time course will appear below. See the behavior of different tissue types."
   ]
  },
  {
   "cell_type": "code",
   "execution_count": 3,
   "metadata": {},
   "outputs": [
    {
     "data": {
      "application/vnd.jupyter.widget-view+json": {
       "model_id": "8bf28e194d7c4a54a23a6f69e5f07e71",
       "version_major": 2,
       "version_minor": 0
      },
      "text/plain": [
       "Canvas(toolbar=Toolbar(toolitems=[('Home', 'Reset original view', 'home', 'home'), ('Back', 'Back to  previous…"
      ]
     },
     "metadata": {},
     "output_type": "display_data"
    },
    {
     "data": {
      "application/vnd.jupyter.widget-view+json": {
       "model_id": "4ca45304b5164833ab37a2e0bac8f807",
       "version_major": 2,
       "version_minor": 0
      },
      "text/plain": [
       "Canvas(toolbar=Toolbar(toolitems=[('Home', 'Reset original view', 'home', 'home'), ('Back', 'Back to  previous…"
      ]
     },
     "metadata": {},
     "output_type": "display_data"
    }
   ],
   "source": [
    "timeseries = t1dataset[130,70,:]\n",
    "pickPoint(t1dataset, ti)"
   ]
  },
  {
   "cell_type": "markdown",
   "metadata": {},
   "source": [
    "### Curve fitting\n",
    "\n",
    "We will now see how the time series is fit to a model curve to extract the T1 parameter.\n",
    "\n",
    "The most basic T1 recovery function is the exponential one:\n",
    "\n",
    "$S(TI) = M_0 (1-2\\exp(-TI/T_1))$\n",
    "\n",
    "Where $S$ is the signal as a function of inversion time, $M_0$ is the \"proton density\", actually containing everything that is not T1, i.e. coil sensitivity, etc\n",
    "\n",
    "The following is the classical T1 model function written in python: you can play around with this. Maybe you can add an imperfect inversion term i.e. change the 2 to a free parameter."
   ]
  },
  {
   "cell_type": "code",
   "execution_count": 4,
   "metadata": {},
   "outputs": [],
   "source": [
    "def t1ModelFunction(ti, m0, t1):\n",
    "    return m0*(1 - 2*np.exp(-ti/t1))"
   ]
  },
  {
   "cell_type": "markdown",
   "metadata": {},
   "source": [
    "This is how the signal would look like if it followed the model function perfectly:"
   ]
  },
  {
   "cell_type": "code",
   "execution_count": 5,
   "metadata": {},
   "outputs": [
    {
     "data": {
      "application/vnd.jupyter.widget-view+json": {
       "model_id": "2d7d0142d8b74f1383dd80e446bcccae",
       "version_major": 2,
       "version_minor": 0
      },
      "text/plain": [
       "Canvas(toolbar=Toolbar(toolitems=[('Home', 'Reset original view', 'home', 'home'), ('Back', 'Back to  previous…"
      ]
     },
     "metadata": {},
     "output_type": "display_data"
    }
   ],
   "source": [
    "showFit(ti, t1ModelFunction(ti, 1000, 1000), t1ModelFunction, (1000,1000))"
   ]
  },
  {
   "cell_type": "markdown",
   "metadata": {},
   "source": [
    "As you notice, the first few points are negative, and your time curve is all positive, because we assumed a magnitude acquisition.\n",
    "\n",
    "In this case, we need to invert the first few points of the curve to be able to do a proper fit. We assume that all the points of the curve before the minimum should be negative (and this is always true because the recovery is monotonic, save for the effect of noise, which we will disregard now). The only question is the minimum point itself: should it be positive or negative?\n",
    "\n",
    "To answer this question we will be fitting the curve twice, once with a positive minimum, and once with a negative minimum, and see what's better."
   ]
  },
  {
   "cell_type": "code",
   "execution_count": 13,
   "metadata": {},
   "outputs": [
    {
     "data": {
      "application/vnd.jupyter.widget-view+json": {
       "model_id": "26e34138f1ca44ea8241201c5d6a6932",
       "version_major": 2,
       "version_minor": 0
      },
      "text/plain": [
       "Canvas(toolbar=Toolbar(toolitems=[('Home', 'Reset original view', 'home', 'home'), ('Back', 'Back to  previous…"
      ]
     },
     "metadata": {},
     "output_type": "display_data"
    },
    {
     "data": {
      "text/plain": [
       "Text(0.5,1,'T1: 685.0, T1 error: 40.5')"
      ]
     },
     "execution_count": 13,
     "metadata": {},
     "output_type": "execute_result"
    }
   ],
   "source": [
    "minPoint = np.argmin(timeseries)\n",
    "timeSeries1 = np.copy(timeseries)\n",
    "\n",
    "# first, fit the curve with the minimum point as positive\n",
    "timeSeries1[0:minPoint] = -timeSeries1[0:minPoint]\n",
    "fittedParams1, covariance = opt.curve_fit(t1ModelFunction, ti, timeSeries1, p0 = (100,1000))\n",
    "\n",
    "m0 = fittedParams1[0]\n",
    "t1 = fittedParams1[1]\n",
    "\n",
    "# show the fit\n",
    "showFit(ti, timeSeries1, t1ModelFunction, fittedParams1)\n",
    "plt.title(\"T1: {:.1f}, T1 error: {:.1f}\".format(t1, fitError(covariance)[1]))"
   ]
  },
  {
   "cell_type": "code",
   "execution_count": 14,
   "metadata": {},
   "outputs": [
    {
     "data": {
      "application/vnd.jupyter.widget-view+json": {
       "model_id": "bd2590182f404726bb174e67077d8232",
       "version_major": 2,
       "version_minor": 0
      },
      "text/plain": [
       "Canvas(toolbar=Toolbar(toolitems=[('Home', 'Reset original view', 'home', 'home'), ('Back', 'Back to  previous…"
      ]
     },
     "metadata": {},
     "output_type": "display_data"
    },
    {
     "data": {
      "text/plain": [
       "Text(0.5,1,'T1: 802.3, T1 error: 30.8')"
      ]
     },
     "execution_count": 14,
     "metadata": {},
     "output_type": "execute_result"
    }
   ],
   "source": [
    "# repeat the fit by assuming the minimum point as negative\n",
    "timeSeries2 = np.copy(timeseries)\n",
    "timeSeries2[0:minPoint+1] = -timeSeries2[0:minPoint+1]\n",
    "\n",
    "fittedParams2, covariance = opt.curve_fit(t1ModelFunction, ti, timeSeries2, p0 = (100,1000))\n",
    "\n",
    "# m0 is the \"proton density\", actually containing everything that is not T1,\n",
    "# i.e. coil sensitivity, etc\n",
    "m0 = fittedParams2[0]\n",
    "t1 = fittedParams2[1]\n",
    "\n",
    "# show the fit\n",
    "showFit(ti, timeSeries2, t1ModelFunction, fittedParams2)\n",
    "plt.title(\"T1: {:.1f}, T1 error: {:.1f}\".format(t1, fitError(covariance)[1]))"
   ]
  },
  {
   "cell_type": "markdown",
   "metadata": {},
   "source": [
    "Which one is the best fit?"
   ]
  },
  {
   "cell_type": "markdown",
   "metadata": {},
   "source": [
    "## T2 Fitting\n",
    "\n",
    "T2 fitting is relatively simple compared to T1 fitting, because we do not have to deal with negative values. Like before, let's load some data.\n",
    "\n",
    "This dataset is a single-echo spin echo, TR=5000ms."
   ]
  },
  {
   "cell_type": "code",
   "execution_count": 8,
   "metadata": {},
   "outputs": [],
   "source": [
    "# This dataset is a single-echo spin echo, TR=5000ms\n",
    "t2dataset = np.load('t2dataset.npy')\n",
    "te = np.array([10., 25., 50., 90., 150., 250.])"
   ]
  },
  {
   "cell_type": "markdown",
   "metadata": {},
   "source": [
    "As before, we will visualize the image. Click on a voxel to select it and see its time course."
   ]
  },
  {
   "cell_type": "code",
   "execution_count": 9,
   "metadata": {},
   "outputs": [
    {
     "data": {
      "application/vnd.jupyter.widget-view+json": {
       "model_id": "45e8b859700a46fe8994b89656f05fd7",
       "version_major": 2,
       "version_minor": 0
      },
      "text/plain": [
       "Canvas(toolbar=Toolbar(toolitems=[('Home', 'Reset original view', 'home', 'home'), ('Back', 'Back to  previous…"
      ]
     },
     "metadata": {},
     "output_type": "display_data"
    },
    {
     "data": {
      "application/vnd.jupyter.widget-view+json": {
       "model_id": "82af98eeb6224acc9577852f5d8e534a",
       "version_major": 2,
       "version_minor": 0
      },
      "text/plain": [
       "Canvas(toolbar=Toolbar(toolitems=[('Home', 'Reset original view', 'home', 'home'), ('Back', 'Back to  previous…"
      ]
     },
     "metadata": {},
     "output_type": "display_data"
    }
   ],
   "source": [
    "timeseries = t2dataset[130,70,:]\n",
    "pickPoint(t2dataset, te)"
   ]
  },
  {
   "cell_type": "markdown",
   "metadata": {},
   "source": [
    "### Curve fitting\n",
    "\n",
    "As you can see above, the time course of a T2 decay is simpler than T1.\n",
    "\n",
    "The most basic T2 decay function is also exponential:\n",
    "\n",
    "$S(TE) = M_0 exp(-TE/T_2))$\n",
    "\n",
    "Where $S$ is the signal as a function of the echo time, $M_0$ is, as before, the \"proton density\", actually containing everything that is not T1, i.e. coil sensitivity, etc\n",
    "\n",
    "The following is the classical T2 model function written in python: you can play around with this. Maybe you can add a bias to take into account the noise at low signal levels."
   ]
  },
  {
   "cell_type": "code",
   "execution_count": 10,
   "metadata": {},
   "outputs": [],
   "source": [
    "def t2ModelFunction(te, m0, t2):\n",
    "    return m0*np.exp(-te/t2)"
   ]
  },
  {
   "cell_type": "markdown",
   "metadata": {},
   "source": [
    "Again this is a plot of a perfect T2 decay:"
   ]
  },
  {
   "cell_type": "code",
   "execution_count": 11,
   "metadata": {},
   "outputs": [
    {
     "data": {
      "application/vnd.jupyter.widget-view+json": {
       "model_id": "1a91a43576ab4af7a717be794f90bad1",
       "version_major": 2,
       "version_minor": 0
      },
      "text/plain": [
       "Canvas(toolbar=Toolbar(toolitems=[('Home', 'Reset original view', 'home', 'home'), ('Back', 'Back to  previous…"
      ]
     },
     "metadata": {},
     "output_type": "display_data"
    }
   ],
   "source": [
    "showFit(te, t2ModelFunction(te, 1000, 100), t2ModelFunction, (1000,100))"
   ]
  },
  {
   "cell_type": "markdown",
   "metadata": {},
   "source": [
    "We don't have to do any manipulation of the signal time course in this case, so a simple fit should be enough:"
   ]
  },
  {
   "cell_type": "code",
   "execution_count": 12,
   "metadata": {},
   "outputs": [
    {
     "data": {
      "application/vnd.jupyter.widget-view+json": {
       "model_id": "57a1582d96c54bdc8cc49124390420b6",
       "version_major": 2,
       "version_minor": 0
      },
      "text/plain": [
       "Canvas(toolbar=Toolbar(toolitems=[('Home', 'Reset original view', 'home', 'home'), ('Back', 'Back to  previous…"
      ]
     },
     "metadata": {},
     "output_type": "display_data"
    },
    {
     "data": {
      "text/plain": [
       "Text(0.5,1,'T2: 803.2, T2 error: 6.6')"
      ]
     },
     "execution_count": 12,
     "metadata": {},
     "output_type": "execute_result"
    }
   ],
   "source": [
    "fittedParams, covariance = opt.curve_fit(t2ModelFunction, te, timeseries, p0 = (100,100))\n",
    "\n",
    "m0 = fittedParams[0]\n",
    "t2 = fittedParams[1]\n",
    "\n",
    "# show the fit\n",
    "showFit(te, timeseries, t2ModelFunction, fittedParams)\n",
    "plt.title(\"T2: {:.1f}, T2 error: {:.1f}\".format(t2, fitError(covariance)[1]))"
   ]
  }
 ],
 "metadata": {
  "kernelspec": {
   "display_name": "Python 3",
   "language": "python",
   "name": "python3"
  },
  "language_info": {
   "codemirror_mode": {
    "name": "ipython",
    "version": 3
   },
   "file_extension": ".py",
   "mimetype": "text/x-python",
   "name": "python",
   "nbconvert_exporter": "python",
   "pygments_lexer": "ipython3",
   "version": "3.6.9"
  }
 },
 "nbformat": 4,
 "nbformat_minor": 4
}
