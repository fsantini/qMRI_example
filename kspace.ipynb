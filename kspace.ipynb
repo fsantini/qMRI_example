{
 "cells": [
  {
   "cell_type": "markdown",
   "metadata": {},
   "source": [
    "# K-Space operations\n",
    "\n",
    "In this Notebook, we will explore some basic properties of K-Space.\n",
    "\n",
    "## Initialization\n",
    "\n",
    "The following code imports the required packages, the dataset that we will be using, and shows the image."
   ]
  },
  {
   "cell_type": "code",
   "execution_count": null,
   "metadata": {},
   "outputs": [],
   "source": [
    "import numpy as np\n",
    "from numpy.fft import *\n",
    "from scipy.signal import sawtooth\n",
    "from ipywidgets import interact, interactive, fixed, interact_manual\n",
    "import ipywidgets as widgets\n",
    "from IPython.display import display\n",
    "import matplotlib.pyplot as plt\n",
    "ima = np.load('mrimage.npy')\n",
    "\n",
    "def show_image(ima, *args, **kwargs):\n",
    "    plt.imshow(ima, *args, **kwargs)\n",
    "    plt.axis('image')\n",
    "    plt.gca().get_xaxis().set_visible(False)\n",
    "    plt.gca().get_yaxis().set_visible(False)\n",
    "\n",
    "show_image(ima)"
   ]
  },
  {
   "cell_type": "markdown",
   "metadata": {},
   "source": [
    "The image is a Fourier pair with its K-Space\n",
    "\n",
    "$\\text{Image} \\overset{\\mathcal{F}}{\\leftrightarrow} \\text{KSpace}$\n",
    "\n",
    "We can show this here:"
   ]
  },
  {
   "cell_type": "code",
   "execution_count": null,
   "metadata": {},
   "outputs": [],
   "source": [
    "kspace = fftshift(fft2(ima)) # we are using fftshift to put the k-space center in the center of the image\n",
    "show_image(abs(kspace), vmax = 5000)"
   ]
  },
  {
   "cell_type": "markdown",
   "metadata": {},
   "source": [
    "Notice how the K-Space has the same dimensions as the image.\n",
    "\n",
    "Now we can go back using the inverse Fourier transform:"
   ]
  },
  {
   "cell_type": "code",
   "execution_count": null,
   "metadata": {},
   "outputs": [],
   "source": [
    "ima2 = abs(ifft2(kspace))\n",
    "show_image(abs(ima2))"
   ]
  },
  {
   "cell_type": "markdown",
   "metadata": {},
   "source": [
    "## Undersampling the k-space\n",
    "\n",
    "Here we show how the image is affected if only the even (odd) lines of k-space are taken. This corresponds to undersampling in K-Space, that is, the step between one phase encoding line and the next has become more coarse."
   ]
  },
  {
   "cell_type": "code",
   "execution_count": null,
   "metadata": {},
   "outputs": [],
   "source": [
    "underSampling = 2 # Change this value for different results!\n",
    "kspace2 = np.copy(kspace)\n",
    "kspace2 = kspace2[0::underSampling,:]"
   ]
  },
  {
   "cell_type": "markdown",
   "metadata": {},
   "source": [
    "This is how the K-Space looks like (notice that, obviously, its size in the vertical direction has halved):"
   ]
  },
  {
   "cell_type": "code",
   "execution_count": null,
   "metadata": {},
   "outputs": [],
   "source": [
    "show_image(abs(kspace2), vmax=5000)"
   ]
  },
  {
   "cell_type": "markdown",
   "metadata": {},
   "source": [
    "And moving back into the image space, we notice that the size of the image has also halved, the field of view is halved too, and aliasing appears:"
   ]
  },
  {
   "cell_type": "code",
   "execution_count": null,
   "metadata": {},
   "outputs": [],
   "source": [
    "show_image(abs(ifft2(kspace2)))"
   ]
  },
  {
   "cell_type": "markdown",
   "metadata": {},
   "source": [
    "### Zero-filling\n",
    "\n",
    "Alternatively, we can set every other line of k-space to zero, instead of removing it. This is called zero-filling the K-Space:"
   ]
  },
  {
   "cell_type": "code",
   "execution_count": null,
   "metadata": {},
   "outputs": [],
   "source": [
    "kspace2 = np.zeros(kspace.shape, dtype=complex)\n",
    "kspace2[0::underSampling,:] = kspace[0::underSampling,:]\n",
    "show_image(abs(kspace2), vmax=5000)"
   ]
  },
  {
   "cell_type": "markdown",
   "metadata": {},
   "source": [
    "The size of K-Space is the same as the original one, however we multiplied the lines by a comb function:"
   ]
  },
  {
   "cell_type": "code",
   "execution_count": null,
   "metadata": {},
   "outputs": [],
   "source": [
    "comb = np.zeros(underSampling*10)\n",
    "comb[0::underSampling] = 1\n",
    "plt.stem(comb, use_line_collection=True)"
   ]
  },
  {
   "cell_type": "markdown",
   "metadata": {},
   "source": [
    "Which, in image space, it is equivalent to a convolution by the Fourier transform of that same function. "
   ]
  },
  {
   "cell_type": "code",
   "execution_count": null,
   "metadata": {},
   "outputs": [],
   "source": [
    "plt.stem(abs(fft(comb)), use_line_collection=True)"
   ]
  },
  {
   "cell_type": "markdown",
   "metadata": {},
   "source": [
    "As you can notice, the FT has two (or, in general, *underSampling*) peaks, which correspond to two replicas of the image in the image domain:"
   ]
  },
  {
   "cell_type": "code",
   "execution_count": null,
   "metadata": {},
   "outputs": [],
   "source": [
    "show_image(abs(ifft2(kspace2)))"
   ]
  },
  {
   "cell_type": "markdown",
   "metadata": {},
   "source": [
    "In this case, the image size is the same as the original, but the field of view is still cropped. We just obtain more replicas of the same information, which is typical of undersampling.\n",
    "\n",
    "## Cropping the K-Space\n",
    "The other operation that we can do in K-Space is cropping, that is, we can leave out some portions of K-Space.\n",
    "\n",
    "In this case, the field of view of the image is unchanged, because it is determined by the phase encoding steps and not the extent of the acquired K-Space.\n",
    "\n",
    "### Removing the outer regions\n",
    "\n",
    "The first operation that we will do will be removing the outer regions of k-space:"
   ]
  },
  {
   "cell_type": "code",
   "execution_count": null,
   "metadata": {},
   "outputs": [],
   "source": [
    "cutLines = 64 # change this value for different results!\n",
    "kspace2 = np.copy(kspace)\n",
    "kspace2 = kspace2[cutLines:-cutLines,cutLines:-cutLines]\n",
    "show_image(abs(kspace2), vmax=5000)"
   ]
  },
  {
   "cell_type": "markdown",
   "metadata": {},
   "source": [
    "The size of K-Space is reduced, and only the central 128 lines (out of 256) are kept. The image will be a scaled down version of the original:"
   ]
  },
  {
   "cell_type": "code",
   "execution_count": null,
   "metadata": {},
   "outputs": [],
   "source": [
    "show_image(abs(ifft2(kspace2)))"
   ]
  },
  {
   "cell_type": "markdown",
   "metadata": {},
   "source": [
    "### Zero-filling\n",
    "\n",
    "The image size is now changed, so the image is effectively smaller. We can restore the original size by doing a zero-filling, like before:"
   ]
  },
  {
   "cell_type": "code",
   "execution_count": null,
   "metadata": {},
   "outputs": [],
   "source": [
    "kspace2 = np.copy(kspace)\n",
    "kspace2[0:cutLines,:] = 0\n",
    "kspace2[-cutLines:,:] = 0\n",
    "kspace2[:,0:cutLines] = 0\n",
    "kspace2[:,-cutLines:] = 0\n",
    "show_image(abs(kspace2), vmax=5000)"
   ]
  },
  {
   "cell_type": "markdown",
   "metadata": {},
   "source": [
    "As we know, the outer regions of K-Space contain the information of the high spatial frequencies. The resulting image will be a reduced-resolution version of the original one:"
   ]
  },
  {
   "cell_type": "code",
   "execution_count": null,
   "metadata": {},
   "outputs": [],
   "source": [
    "plt.subplot(121)\n",
    "show_image(abs(ifft2(kspace2)))\n",
    "plt.title(\"Reduced resolution\")\n",
    "plt.subplot(122)\n",
    "show_image(abs(ifft2(kspace)))\n",
    "plt.title(\"Original image\")"
   ]
  },
  {
   "cell_type": "markdown",
   "metadata": {},
   "source": [
    "Here's the difference of the two images:"
   ]
  },
  {
   "cell_type": "code",
   "execution_count": null,
   "metadata": {},
   "outputs": [],
   "source": [
    "show_image(abs(ifft2(kspace2)) - abs(ifft2(kspace)))\n",
    "plt.title(\"Difference\")"
   ]
  },
  {
   "cell_type": "markdown",
   "metadata": {},
   "source": [
    "## Removing the center of K-Space\n",
    "\n",
    "The center of K-Space contains information about the lower spatial frequencies, i.e. the contrast of the image."
   ]
  },
  {
   "cell_type": "code",
   "execution_count": null,
   "metadata": {},
   "outputs": [],
   "source": [
    "kspace2 = np.copy(kspace)\n",
    "kspace2[cutLines:-cutLines,cutLines:-cutLines] = 0\n",
    "show_image(abs(kspace2), vmax=5000)"
   ]
  },
  {
   "cell_type": "markdown",
   "metadata": {},
   "source": [
    "The corresponding image will be the following:"
   ]
  },
  {
   "cell_type": "code",
   "execution_count": null,
   "metadata": {},
   "outputs": [],
   "source": [
    "show_image(abs(ifft2(kspace2)))"
   ]
  },
  {
   "cell_type": "markdown",
   "metadata": {},
   "source": [
    "This is the end of our tutorial on K-Space. If you would like to play with different options, you can first try changing the variable of the \"cutLines\" variable above, to remove smaller or larger portions of K-Space."
   ]
  },
  {
   "cell_type": "markdown",
   "metadata": {},
   "source": [
    "## Motion artifacts\n",
    "\n",
    "Motion artifacts introduce a modulation of k-space, because the actual image changes with every line we acquire."
   ]
  },
  {
   "cell_type": "code",
   "execution_count": null,
   "metadata": {},
   "outputs": [],
   "source": [
    "modulation = 0.8*np.sin(np.linspace(0,20,kspace.shape[0])*2*np.pi) + 1\n",
    "modulation_mask = np.stack([modulation]*kspace.shape[1]).T\n",
    "plt.subplot(1,3,1)\n",
    "show_image(np.abs(kspace), vmax=5000)\n",
    "plt.title('Original k-space')\n",
    "\n",
    "plt.subplot(1,3,2)\n",
    "show_image(modulation_mask)\n",
    "plt.title('Modulation mask')\n",
    "\n",
    "plt.subplot(1,3,3)\n",
    "kspace2 = kspace * modulation_mask\n",
    "show_image(np.abs(kspace2), vmax=5000)\n",
    "plt.title('Modified k-space')\n",
    "\n",
    "plt.figure()\n",
    "plt.subplot(1,3,1)\n",
    "show_image(abs(ifft2(kspace)))\n",
    "plt.title('Original image')\n",
    "\n",
    "plt.subplot(1,3,2)\n",
    "show_image(abs(ifft2(kspace2)))\n",
    "plt.title('Resulting image')\n",
    "\n",
    "plt.subplot(1,3,3)\n",
    "show_image(abs(ifft2(kspace2)) - abs(ifft2(kspace)))\n",
    "plt.title('Difference image')"
   ]
  },
  {
   "cell_type": "markdown",
   "metadata": {},
   "source": [
    "### Blood pulsation artifacts\n",
    "\n",
    "A vessel that crosses the slice will be subject to different inflow effects depending on the cardiac phase. When the blood flow is higher, the vessel signal will be more intense, and vice versa. We will simulate this by having an area of the image change in intensity."
   ]
  },
  {
   "cell_type": "code",
   "execution_count": null,
   "metadata": {},
   "outputs": [],
   "source": [
    "ima_stack = np.stack([ima]*kspace.shape[0], axis=-1)\n",
    "vessel_mask = np.zeros_like(ima)\n",
    "vessel_mask[180:190, 80:90] = 1\n",
    "modulation = 5*sawtooth(np.linspace(0,20,kspace.shape[0])*2*np.pi)+5 # use the same modulation as before\n",
    "modulated_vessel_list = []\n",
    "for time in range(kspace.shape[0]):\n",
    "    modulated_vessel_list.append(vessel_mask*modulation[time])\n",
    "modulated_vessel_stack = np.stack(modulated_vessel_list, axis=-1)\n",
    "modulated_ima_stack = ima_stack * (1+modulated_vessel_stack)\n",
    "\n",
    "# perform the fft to go back to kspace\n",
    "modulated_kspace = np.zeros_like(kspace)\n",
    "for time in range(kspace.shape[0]):\n",
    "    modulated_kspace[time, :] = fftshift(fft2(modulated_ima_stack[:,:,time]))[time, :]\n",
    "    \n",
    "plt.subplot(1,2,1)\n",
    "show_image(abs(kspace), vmax = 5000)\n",
    "plt.title('Original kspace')\n",
    "\n",
    "plt.subplot(1,2,2)\n",
    "show_image(abs(modulated_kspace), vmax = 5000)\n",
    "plt.title('Modulated kspace')\n",
    "\n",
    "\n",
    "plt.figure()\n",
    "plt.subplot(1,3,1)\n",
    "show_image(ima)\n",
    "plt.title('Original image')\n",
    "\n",
    "plt.subplot(1,3,2)\n",
    "show_image(abs(ifft2(modulated_kspace)))\n",
    "plt.title('Result image')\n",
    "\n",
    "plt.subplot(1,3,3)\n",
    "show_image(abs(ifft2(modulated_kspace)) - ima)\n",
    "plt.title('Difference image')"
   ]
  },
  {
   "cell_type": "markdown",
   "metadata": {},
   "source": [
    "## RF and hardware failures\n",
    "\n",
    "RF interferences and hardware failures have typical appearances, also related to the acquisition in k-space.\n",
    "\n",
    "### RF interference\n",
    "\n",
    "An RF interference artifact, also called \"zipper\" artifact, is due to RF energy at a specific frequency picked up by a receive coil. As the phase of the RF energy varies for every k-space line, its appearance is somehow similar to a blood pulsatility artifact. If the phase was synchronized, it would appear as a single spot."
   ]
  },
  {
   "cell_type": "code",
   "execution_count": null,
   "metadata": {},
   "outputs": [],
   "source": [
    "kspace2 = np.copy(kspace)\n",
    "rfInterference = 1000*sawtooth(np.linspace(0,1000,kspace.shape[1])*2*np.pi)\n",
    "for line in range(kspace.shape[0]):\n",
    "    kspace2[line,:] += 100000*sawtooth(np.random.rand(1)*100 + np.linspace(0,100,kspace.shape[1])*2*np.pi)\n",
    "\n",
    "plt.subplot(1,2,1)\n",
    "show_image(abs(kspace), vmax = 100000)\n",
    "plt.title('Original kspace')\n",
    "\n",
    "plt.subplot(1,2,2)\n",
    "show_image(abs(kspace2), vmax = 100000)\n",
    "plt.title('Corrupted kspace')\n",
    "\n",
    "plt.figure()\n",
    "plt.subplot(1,2,1)\n",
    "show_image(ima)\n",
    "plt.title('Original image')\n",
    "\n",
    "plt.subplot(1,2,2)\n",
    "show_image(abs(ifft2(kspace2)))\n",
    "plt.title('Corrupted image')"
   ]
  },
  {
   "cell_type": "markdown",
   "metadata": {},
   "source": [
    "### Amplifier failure\n",
    "\n",
    "A failure in an RF amplifier causes a spike in a single location in K-Space. This results in a sinusoidal modulation over the image."
   ]
  },
  {
   "cell_type": "code",
   "execution_count": null,
   "metadata": {},
   "outputs": [],
   "source": [
    "kspace2 = np.copy(kspace)\n",
    "kspace2[(kspace.shape[0]//2) + 20,(kspace.shape[1]//2) + 30] = 10000000\n",
    "\n",
    "plt.subplot(1,2,1)\n",
    "show_image(abs(kspace), vmax = 100000)\n",
    "plt.title('Original kspace')\n",
    "\n",
    "plt.subplot(1,2,2)\n",
    "show_image(abs(kspace2), vmax = 100000)\n",
    "plt.title('Corrupted kspace')\n",
    "\n",
    "plt.figure()\n",
    "plt.subplot(1,2,1)\n",
    "show_image(ima)\n",
    "plt.title('Original image')\n",
    "\n",
    "plt.subplot(1,2,2)\n",
    "show_image(abs(ifft2(kspace2)))\n",
    "plt.title('Corrupted image')"
   ]
  },
  {
   "cell_type": "markdown",
   "metadata": {},
   "source": [
    "## Interactive examples\n",
    "\n",
    "Here you can find some of the previous examples with a nice interactive interface:\n",
    "\n",
    "### Undersampling"
   ]
  },
  {
   "cell_type": "code",
   "execution_count": null,
   "metadata": {},
   "outputs": [],
   "source": [
    "def interactiveImage(underSampling):\n",
    "    kspace2 = np.zeros(kspace.shape, dtype=complex)\n",
    "    kspace2[0::underSampling,:] = kspace[0::underSampling,:]\n",
    "    show_image(abs(kspace2), vmax=5000)\n",
    "    plt.figure()\n",
    "    show_image(abs(ifft2(kspace2)))\n",
    "    plt.axis('image')\n",
    "    \n",
    "i = interactive(interactiveImage, underSampling = (1,8,1))\n",
    "display(i)"
   ]
  },
  {
   "cell_type": "markdown",
   "metadata": {},
   "source": [
    "### Zero-filling of outer k-space"
   ]
  },
  {
   "cell_type": "code",
   "execution_count": null,
   "metadata": {},
   "outputs": [],
   "source": [
    "def interactiveImage(cutLines):\n",
    "    kspace2 = np.copy(kspace)\n",
    "    kspace2[0:cutLines,:] = 0\n",
    "    kspace2[-cutLines:,:] = 0\n",
    "    kspace2[:,0:cutLines] = 0\n",
    "    kspace2[:,-cutLines:] = 0\n",
    "    show_image(abs(kspace2), vmax=5000)\n",
    "    plt.figure()\n",
    "    show_image(abs(ifft2(kspace2)))\n",
    "    plt.axis('image')\n",
    "    \n",
    "i = interactive(interactiveImage, cutLines = (1,90,1))\n",
    "display(i)"
   ]
  },
  {
   "cell_type": "markdown",
   "metadata": {},
   "source": [
    "### Zero-filling of inner k-space"
   ]
  },
  {
   "cell_type": "code",
   "execution_count": null,
   "metadata": {},
   "outputs": [],
   "source": [
    "def interactiveImage(cutLines):\n",
    "    kspace2 = np.copy(kspace)\n",
    "    minSiz = np.min(kspace2.shape)\n",
    "    cut = int(minSiz/2-cutLines)\n",
    "    kspace2[cut:-cut,cut:-cut] = 0\n",
    "    show_image(abs(kspace2), vmax=5000)\n",
    "    plt.figure()\n",
    "    show_image(abs(ifft2(kspace2)))\n",
    "    plt.axis('image')\n",
    "    \n",
    "i = interactive(interactiveImage, cutLines = (0,90,1))\n",
    "display(i)"
   ]
  }
 ],
 "metadata": {
  "kernelspec": {
   "display_name": "Python 3",
   "language": "python",
   "name": "python3"
  },
  "language_info": {
   "codemirror_mode": {
    "name": "ipython",
    "version": 3
   },
   "file_extension": ".py",
   "mimetype": "text/x-python",
   "name": "python",
   "nbconvert_exporter": "python",
   "pygments_lexer": "ipython3",
   "version": "3.9.5"
  }
 },
 "nbformat": 4,
 "nbformat_minor": 4
}
